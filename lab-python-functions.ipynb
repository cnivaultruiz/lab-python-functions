{
 "cells": [
  {
   "cell_type": "markdown",
   "id": "25d7736c-ba17-4aff-b6bb-66eba20fbf4e",
   "metadata": {},
   "source": [
    "# Lab | Functions"
   ]
  },
  {
   "cell_type": "markdown",
   "id": "0c581062-8967-4d93-b06e-62833222f930",
   "metadata": {
    "tags": []
   },
   "source": [
    "## Exercise: Managing Customer Orders with Functions\n",
    "\n",
    "In the previous exercise, you improved the code for managing customer orders by using loops and flow control. Now, let's take it a step further and refactor the code by introducing functions.\n",
    "\n",
    "Follow the steps below to complete the exercise:\n",
    "\n",
    "1. Define a function named `initialize_inventory` that takes `products` as a parameter. Inside the function, implement the code for initializing the inventory dictionary using a loop and user input.\n",
    "\n",
    "2. Define a function named `get_customer_orders` that takes no parameters. Inside the function, implement the code for prompting the user to enter the product names using a loop. The function should return the `customer_orders` set.\n",
    "\n",
    "3. Define a function named `update_inventory` that takes `customer_orders` and `inventory` as parameters. Inside the function, implement the code for updating the inventory dictionary based on the customer orders.\n",
    "\n",
    "4. Define a function named `calculate_order_statistics` that takes `customer_orders` and `products` as parameters. Inside the function, implement the code for calculating the order statistics (total products ordered, and percentage of unique products ordered). The function should return these values.\n",
    "\n",
    "5. Define a function named `print_order_statistics` that takes `order_statistics` as a parameter. Inside the function, implement the code for printing the order statistics.\n",
    "\n",
    "6. Define a function named `print_updated_inventory` that takes `inventory` as a parameter. Inside the function, implement the code for printing the updated inventory.\n",
    "\n",
    "7. Call the functions in the appropriate sequence to execute the program and manage customer orders.\n",
    "\n",
    "Hints for functions:\n",
    "\n",
    "- Consider the input parameters required for each function and their return values.\n",
    "- Utilize function parameters and return values to transfer data between functions.\n",
    "- Test your functions individually to ensure they work correctly.\n",
    "\n",
    "\n"
   ]
  },
  {
   "cell_type": "code",
   "execution_count": 8,
   "id": "9c8780ba",
   "metadata": {},
   "outputs": [
    {
     "name": "stdout",
     "output_type": "stream",
     "text": [
      "Enter a quantity of t-shirt: 8\n",
      "Enter a quantity of mug: 1\n",
      "Enter a quantity of hat: 3\n",
      "Enter a quantity of book: 4\n",
      "Enter a quantity of keychain: 2\n"
     ]
    },
    {
     "data": {
      "text/plain": [
       "{'t-shirt': 8, 'mug': 1, 'hat': 3, 'book': 4, 'keychain': 2}"
      ]
     },
     "execution_count": 8,
     "metadata": {},
     "output_type": "execute_result"
    }
   ],
   "source": [
    "def initialize_inventory (products):\n",
    "   # products = [\"t-shirt\", \"mug\", \"hat\", \"book\", \"keychain\"]\n",
    "    inventory = {}\n",
    "    for x in products : \n",
    "        qty = int(input((f\"Enter a quantity of {x}: \")))\n",
    "        inventory[x] = qty\n",
    "  \n",
    "    return inventory\n",
    "\n"
   ]
  },
  {
   "cell_type": "code",
   "execution_count": 14,
   "id": "61f72034",
   "metadata": {},
   "outputs": [
    {
     "name": "stdout",
     "output_type": "stream",
     "text": [
      "Enter the product that you want to order :hat\n",
      "Do you want to add an other product yes / no : yes\n",
      "Enter the product that you want to order :book\n",
      "Do you want to add an other product yes / no : yes\n",
      "Enter the product that you want to order :mug\n",
      "Do you want to add an other product yes / no : no\n"
     ]
    },
    {
     "data": {
      "text/plain": [
       "{'book', 'hat', 'mug'}"
      ]
     },
     "execution_count": 14,
     "metadata": {},
     "output_type": "execute_result"
    }
   ],
   "source": [
    "def get_customer_orders ():\n",
    "    customer_orders = set()\n",
    "    choice = input ('Enter the product that you want to order :')\n",
    "    customer_orders.add(choice)\n",
    "    more = input ('Do you want to add an other product yes / no : ')\n",
    "\n",
    "    while more != 'no':\n",
    "\n",
    "        choice = input('Enter the product that you want to order :')\n",
    "        customer_orders.add(choice)\n",
    "        more = input ('Do you want to add an other product yes / no : ')\n",
    "        if more == 'no':\n",
    "            pass\n",
    "    return customer_orders\n",
    "\n",
    "#get_customer_orders ()\n"
   ]
  },
  {
   "cell_type": "code",
   "execution_count": 18,
   "id": "64bd946f",
   "metadata": {},
   "outputs": [
    {
     "data": {
      "text/plain": [
       "{'t-shirt': 8}"
      ]
     },
     "execution_count": 18,
     "metadata": {},
     "output_type": "execute_result"
    }
   ],
   "source": [
    "def update_inventory (inventory, customer_orders) :\n",
    "    for x in customer_orders :\n",
    "        if x in inventory:\n",
    "            inventory[x] -= 1\n",
    "    return inventory\n",
    "\n"
   ]
  },
  {
   "cell_type": "code",
   "execution_count": 20,
   "id": "7782e3e7",
   "metadata": {},
   "outputs": [
    {
     "data": {
      "text/plain": [
       "(3, 60.0)"
      ]
     },
     "execution_count": 20,
     "metadata": {},
     "output_type": "execute_result"
    }
   ],
   "source": [
    "def calculate_order_statistics (customer_orders, products):\n",
    "    total_products_ordered = len(customer_orders)\n",
    "    percentage_ordered = (total_products_ordered / len(products)) * 100\n",
    "    order_statistics = (total_products_ordered, percentage_ordered)\n",
    "    return order_statistics\n",
    "\n",
    "#calculate_order_statistics({'book', 'hat', 'mug'},[\"t-shirt\", \"mug\", \"hat\", \"book\", \"keychain\"])"
   ]
  },
  {
   "cell_type": "code",
   "execution_count": 25,
   "id": "7cfad363",
   "metadata": {},
   "outputs": [
    {
     "name": "stdout",
     "output_type": "stream",
     "text": [
      "stat is : (3, 60.0)\n"
     ]
    }
   ],
   "source": [
    "def print_order_statistics (order_statistics):\n",
    "    print ('stat is :',order_statistics)\n",
    "    \n"
   ]
  },
  {
   "cell_type": "code",
   "execution_count": 38,
   "id": "2f64eda0",
   "metadata": {},
   "outputs": [
    {
     "name": "stdout",
     "output_type": "stream",
     "text": [
      "new inventory is : {'t-shirt': 8}\n"
     ]
    }
   ],
   "source": [
    "def print_updated_inventory (inventory):\n",
    "    print('new inventory is :',inventory)\n",
    "    \n",
    "\n",
    "#print_updated_inventory ({'t-shirt': 8})"
   ]
  },
  {
   "cell_type": "code",
   "execution_count": 40,
   "id": "6a1acde2",
   "metadata": {},
   "outputs": [
    {
     "name": "stdout",
     "output_type": "stream",
     "text": [
      "Enter a quantity of t-shirt: 7\n",
      "Enter a quantity of mug: 5\n",
      "Enter a quantity of hat: 4\n",
      "Enter a quantity of book: 4\n",
      "Enter a quantity of keychain: 1\n",
      "Enter the product that you want to order :hat\n",
      "Do you want to add an other product yes / no : yes\n",
      "Enter the product that you want to order :book\n",
      "Do you want to add an other product yes / no : yes\n",
      "Enter the product that you want to order :mug\n",
      "Do you want to add an other product yes / no : no\n",
      "new inventory is : {'t-shirt': 7, 'mug': 4, 'hat': 3, 'book': 3, 'keychain': 1}\n",
      "stat is : (3, 60.0)\n"
     ]
    }
   ],
   "source": [
    "products = [\"t-shirt\", \"mug\", \"hat\", \"book\", \"keychain\"]\n",
    "result1 = initialize_inventory (products)\n",
    "result2 = get_customer_orders ()\n",
    "result3 = update_inventory (result1, result2)\n",
    "print_updated_inventory (result1)\n",
    "result4 = calculate_order_statistics(result2,products)\n",
    "print_order_statistics (result4)\n"
   ]
  }
 ],
 "metadata": {
  "kernelspec": {
   "display_name": "Python 3 (ipykernel)",
   "language": "python",
   "name": "python3"
  },
  "language_info": {
   "codemirror_mode": {
    "name": "ipython",
    "version": 3
   },
   "file_extension": ".py",
   "mimetype": "text/x-python",
   "name": "python",
   "nbconvert_exporter": "python",
   "pygments_lexer": "ipython3",
   "version": "3.11.7"
  }
 },
 "nbformat": 4,
 "nbformat_minor": 5
}
